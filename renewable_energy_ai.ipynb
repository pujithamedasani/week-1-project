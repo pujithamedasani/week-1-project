{
  "cells": [
    {
      "cell_type": "markdown",
      "metadata": {},
      "source": [
        "# Renewable Energy & AI - Green Skills Project\n",
        "This notebook loads, cleans, and processes renewable energy data from Kaggle for EduNet Green Skills project."
      ]
    },
    {
      "cell_type": "code",
      "execution_count": null,
      "metadata": {},
      "outputs": [],
      "source": [
        "# Install Kaggle API \n",
        "# !pip install kaggle\n",
        "\n",
        "# Import required libraries\n",
        "import pandas as pd\n",
        "import numpy as np\n",
        "import matplotlib.pyplot as plt\n",
        "import seaborn as sns\n",
        "from sklearn.preprocessing import MinMaxScaler\n"
      ]
    },
    {
      "cell_type": "code",
      "execution_count": null,
      "metadata": {},
      "outputs": [],
      "source": [
        "# Download dataset from Kaggle (requires kaggle.json setup)\n",
        "# Example dataset: sudalairajkumar/renewable-energy\n",
        "# !kaggle datasets download -d sudalairajkumar/renewable-energy -p ./data --unzip\n",
        "\n",
        "df = pd.read_csv('./data/renewable_energy.csv')  # Adjust filename after download\n",
        "df.head()"
      ]
    },
    {
      "cell_type": "code",
      "execution_count": null,
      "metadata": {},
      "outputs": [],
      "source": [
        "# Explore dataset\n",
        "df.info()\n",
        "df.describe()\n",
        "df.isnull().sum()"
      ]
    },
    {
      "cell_type": "code",
      "execution_count": null,
      "metadata": {},
      "outputs": [],
      "source": [
        "# Data Cleaning\n",
        "df = df.dropna()\n",
        "# Convert energy to consistent units if needed\n",
        "# Example: df['energy_mwh'] = df['energy_gwh'] * 1000\n",
        "\n",
        "# Standardize column names\n",
        "df.columns = df.columns.str.strip().str.lower().str.replace(' ', '_')\n",
        "df.head()"
      ]
    },
    {
      "cell_type": "code",
      "execution_count": null,
      "metadata": {},
      "outputs": [],
      "source": [
        "# Feature Engineering: Green Skills Context\n",
        "if 'renewable_energy_production' in df.columns and 'total_energy_production' in df.columns:\n",
        "    df['renewable_share'] = (df['renewable_energy_production'] / df['total_energy_production']) * 100\n",
        "\n",
        "# Example growth calculation\n",
        "if 'year' in df.columns and 'renewable_energy_production' in df.columns:\n",
        "    df['yearly_growth'] = df.groupby('country')['renewable_energy_production'].pct_change() * 100\n",
        "\n",
        "df.head()"
      ]
    },
    {
      "cell_type": "code",
      "execution_count": null,
      "metadata": {},
      "outputs": [],
      "source": [
        "# Save cleaned dataset\n",
        "Path('./data').mkdir(exist_ok=True)\n",
        "df.to_csv('./data/renewable_energy_clean.csv', index=False)\n",
        "print('Clean dataset saved to data/renewable_energy_clean.csv')"
      ]
    }
  ],
  "metadata": {
    "kernelspec": {
      "display_name": "Python 3",
      "language": "python",
      "name": "python3"
    },
    "language_info": {
      "file_extension": ".py",
      "mimetype": "text/x-python",
      "name": "python",
      "pygments_lexer": "ipython3",
      "version": "3.10"
    }
  },
  "nbformat": 4,
  "nbformat_minor": 2
}
